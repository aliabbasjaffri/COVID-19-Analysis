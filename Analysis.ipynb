{
 "cells": [
  {
   "cell_type": "code",
   "execution_count": 1,
   "metadata": {},
   "outputs": [
    {
     "name": "stdout",
     "output_type": "stream",
     "text": [
      "2.0.0\n"
     ]
    }
   ],
   "source": [
    "%load_ext autoreload\n",
    "%autoreload 2\n",
    "\n",
    "from pathlib import Path\n",
    "import datetime\n",
    "\n",
    "import matplotlib.pylab as plt\n",
    "import pandas as pd\n",
    "import seaborn as sns\n",
    "import numpy as np\n",
    "from sklearn.linear_model import LinearRegression\n",
    "\n",
    "import utils\n",
    "\n",
    "%matplotlib inline\n",
    "%config InlineBackend.figure_format = 'retina'\n",
    "\n",
    "sns.set()"
   ]
  },
  {
   "cell_type": "code",
   "execution_count": 2,
   "metadata": {},
   "outputs": [],
   "source": [
    "# papermill parameter cell\n",
    "update_figures = True\n",
    "fig_size = (8,6)\n",
    "fig_ext = \"pdf\"\n"
   ]
  },
  {
   "cell_type": "code",
   "execution_count": 3,
   "metadata": {},
   "outputs": [],
   "source": [
    "df_confirmed = pd.concat([\n",
    "    utils.load_file(Path(\"/Users/aliabbasjaffri/Documents/GitHub/COVID-19/csse_covid_19_data/csse_covid_19_time_series/time_series_covid19_confirmed_global.csv\"))\n",
    "])\n",
    "\n",
    "df_deaths = pd.concat([\n",
    "    utils.load_file(Path(\"/Users/aliabbasjaffri/Documents/GitHub/COVID-19/csse_covid_19_data/csse_covid_19_time_series/time_series_covid19_deaths_global.csv\"))\n",
    "])\n",
    "\n",
    "df_recovered = pd.concat([\n",
    "    utils.load_file(Path(\"/Users/aliabbasjaffri/Documents/GitHub/COVID-19/csse_covid_19_data/csse_covid_19_time_series/time_series_covid19_recovered_global.csv\"))\n",
    "])\n",
    "\n"
   ]
  },
  {
   "cell_type": "code",
   "execution_count": 4,
   "metadata": {},
   "outputs": [],
   "source": [
    "def get_figures_by_country(df_val, country):\n",
    "    df = df_val[df_val['Country'] == country]\n",
    "    \n",
    "    df = df.melt(id_vars=['Country', 'Province'],\n",
    "                 var_name=\"Date\", \n",
    "                 value_name=\"Confirmed\")\n",
    "    \n",
    "    df.dropna(axis=1, how='all', inplace=True)\n",
    "    df['Date'] = pd.to_datetime(df.Date)\n",
    "    df['Date'] = df['Date'].values.astype(float)\n",
    "    df[\"Confirmed\"] = df[\"Confirmed\"].astype(int)\n",
    "    return df"
   ]
  },
  {
   "cell_type": "code",
   "execution_count": 5,
   "metadata": {},
   "outputs": [],
   "source": [
    "# def separate_provincial_information(df):\n",
    "#     withoutPD = df.query('(Province.isnull())')\n",
    "#     withPD = df.query('(not Province.isnull())')\n",
    "    \n",
    "#     withoutPD = withoutPD.pivot(index='Date', columns='Country')['Confirmed']\n",
    "    \n",
    "#     withPD = withPD.pivot_table(index=['Date', 'Country'], columns='Province', values='Confirmed').unstack('Country').reset_index()\n",
    "#     withPD = withPD.dropna(axis=1, how='all')\n",
    "#     return withoutPD, withPD"
   ]
  },
  {
   "cell_type": "code",
   "execution_count": 6,
   "metadata": {},
   "outputs": [
    {
     "data": {
      "text/html": [
       "<div>\n",
       "<style scoped>\n",
       "    .dataframe tbody tr th:only-of-type {\n",
       "        vertical-align: middle;\n",
       "    }\n",
       "\n",
       "    .dataframe tbody tr th {\n",
       "        vertical-align: top;\n",
       "    }\n",
       "\n",
       "    .dataframe thead th {\n",
       "        text-align: right;\n",
       "    }\n",
       "</style>\n",
       "<table border=\"1\" class=\"dataframe\">\n",
       "  <thead>\n",
       "    <tr style=\"text-align: right;\">\n",
       "      <th></th>\n",
       "      <th>Country</th>\n",
       "      <th>Date</th>\n",
       "      <th>Confirmed</th>\n",
       "    </tr>\n",
       "  </thead>\n",
       "  <tbody>\n",
       "    <tr>\n",
       "      <th>0</th>\n",
       "      <td>Pakistan</td>\n",
       "      <td>1.579651e+18</td>\n",
       "      <td>0</td>\n",
       "    </tr>\n",
       "    <tr>\n",
       "      <th>1</th>\n",
       "      <td>Pakistan</td>\n",
       "      <td>1.579738e+18</td>\n",
       "      <td>0</td>\n",
       "    </tr>\n",
       "    <tr>\n",
       "      <th>2</th>\n",
       "      <td>Pakistan</td>\n",
       "      <td>1.579824e+18</td>\n",
       "      <td>0</td>\n",
       "    </tr>\n",
       "    <tr>\n",
       "      <th>3</th>\n",
       "      <td>Pakistan</td>\n",
       "      <td>1.579910e+18</td>\n",
       "      <td>0</td>\n",
       "    </tr>\n",
       "    <tr>\n",
       "      <th>4</th>\n",
       "      <td>Pakistan</td>\n",
       "      <td>1.579997e+18</td>\n",
       "      <td>0</td>\n",
       "    </tr>\n",
       "    <tr>\n",
       "      <th>...</th>\n",
       "      <td>...</td>\n",
       "      <td>...</td>\n",
       "      <td>...</td>\n",
       "    </tr>\n",
       "    <tr>\n",
       "      <th>62</th>\n",
       "      <td>Pakistan</td>\n",
       "      <td>1.585008e+18</td>\n",
       "      <td>972</td>\n",
       "    </tr>\n",
       "    <tr>\n",
       "      <th>63</th>\n",
       "      <td>Pakistan</td>\n",
       "      <td>1.585094e+18</td>\n",
       "      <td>1063</td>\n",
       "    </tr>\n",
       "    <tr>\n",
       "      <th>64</th>\n",
       "      <td>Pakistan</td>\n",
       "      <td>1.585181e+18</td>\n",
       "      <td>1201</td>\n",
       "    </tr>\n",
       "    <tr>\n",
       "      <th>65</th>\n",
       "      <td>Pakistan</td>\n",
       "      <td>1.585267e+18</td>\n",
       "      <td>1373</td>\n",
       "    </tr>\n",
       "    <tr>\n",
       "      <th>66</th>\n",
       "      <td>Pakistan</td>\n",
       "      <td>1.585354e+18</td>\n",
       "      <td>1495</td>\n",
       "    </tr>\n",
       "  </tbody>\n",
       "</table>\n",
       "<p>67 rows × 3 columns</p>\n",
       "</div>"
      ],
      "text/plain": [
       "     Country          Date  Confirmed\n",
       "0   Pakistan  1.579651e+18          0\n",
       "1   Pakistan  1.579738e+18          0\n",
       "2   Pakistan  1.579824e+18          0\n",
       "3   Pakistan  1.579910e+18          0\n",
       "4   Pakistan  1.579997e+18          0\n",
       "..       ...           ...        ...\n",
       "62  Pakistan  1.585008e+18        972\n",
       "63  Pakistan  1.585094e+18       1063\n",
       "64  Pakistan  1.585181e+18       1201\n",
       "65  Pakistan  1.585267e+18       1373\n",
       "66  Pakistan  1.585354e+18       1495\n",
       "\n",
       "[67 rows x 3 columns]"
      ]
     },
     "execution_count": 6,
     "metadata": {},
     "output_type": "execute_result"
    }
   ],
   "source": [
    "# countries = ['Pakistan', 'Germany', 'Iran', 'Italy', 'India', 'China', 'Australia'] \n",
    "countries = ['Pakistan']\n",
    "\n",
    "country_data_confirmed = []\n",
    "country_data_deaths = []\n",
    "country_data_recovered = []\n",
    "\n",
    "for country in countries:\n",
    "    country_data_confirmed.append(get_figures_by_country(df_confirmed, country))\n",
    "    country_data_deaths.append(get_figures_by_country(df_deaths, country))\n",
    "    country_data_recovered.append(get_figures_by_country(df_recovered, country))\n",
    "\n",
    "df_confirm = pd.concat(country_data_confirmed)\n",
    "df_death = pd.concat(country_data_deaths)\n",
    "df_recover = pd.concat(country_data_recovered)\n",
    "\n",
    "df_confirm\n",
    "\n"
   ]
  },
  {
   "cell_type": "code",
   "execution_count": 21,
   "metadata": {},
   "outputs": [
    {
     "data": {
      "text/html": [
       "<div>\n",
       "<style scoped>\n",
       "    .dataframe tbody tr th:only-of-type {\n",
       "        vertical-align: middle;\n",
       "    }\n",
       "\n",
       "    .dataframe tbody tr th {\n",
       "        vertical-align: top;\n",
       "    }\n",
       "\n",
       "    .dataframe thead th {\n",
       "        text-align: right;\n",
       "    }\n",
       "</style>\n",
       "<table border=\"1\" class=\"dataframe\">\n",
       "  <thead>\n",
       "    <tr style=\"text-align: right;\">\n",
       "      <th></th>\n",
       "      <th>Country</th>\n",
       "      <th>Date</th>\n",
       "      <th>Confirmed</th>\n",
       "    </tr>\n",
       "  </thead>\n",
       "  <tbody>\n",
       "    <tr>\n",
       "      <th>0</th>\n",
       "      <td>Pakistan</td>\n",
       "      <td>1.582675e+18</td>\n",
       "      <td>2</td>\n",
       "    </tr>\n",
       "    <tr>\n",
       "      <th>1</th>\n",
       "      <td>Pakistan</td>\n",
       "      <td>1.582762e+18</td>\n",
       "      <td>2</td>\n",
       "    </tr>\n",
       "    <tr>\n",
       "      <th>2</th>\n",
       "      <td>Pakistan</td>\n",
       "      <td>1.582848e+18</td>\n",
       "      <td>2</td>\n",
       "    </tr>\n",
       "    <tr>\n",
       "      <th>3</th>\n",
       "      <td>Pakistan</td>\n",
       "      <td>1.582934e+18</td>\n",
       "      <td>4</td>\n",
       "    </tr>\n",
       "    <tr>\n",
       "      <th>4</th>\n",
       "      <td>Pakistan</td>\n",
       "      <td>1.583021e+18</td>\n",
       "      <td>4</td>\n",
       "    </tr>\n",
       "    <tr>\n",
       "      <th>5</th>\n",
       "      <td>Pakistan</td>\n",
       "      <td>1.583107e+18</td>\n",
       "      <td>4</td>\n",
       "    </tr>\n",
       "    <tr>\n",
       "      <th>6</th>\n",
       "      <td>Pakistan</td>\n",
       "      <td>1.583194e+18</td>\n",
       "      <td>5</td>\n",
       "    </tr>\n",
       "    <tr>\n",
       "      <th>7</th>\n",
       "      <td>Pakistan</td>\n",
       "      <td>1.583280e+18</td>\n",
       "      <td>5</td>\n",
       "    </tr>\n",
       "    <tr>\n",
       "      <th>8</th>\n",
       "      <td>Pakistan</td>\n",
       "      <td>1.583366e+18</td>\n",
       "      <td>5</td>\n",
       "    </tr>\n",
       "    <tr>\n",
       "      <th>9</th>\n",
       "      <td>Pakistan</td>\n",
       "      <td>1.583453e+18</td>\n",
       "      <td>6</td>\n",
       "    </tr>\n",
       "    <tr>\n",
       "      <th>10</th>\n",
       "      <td>Pakistan</td>\n",
       "      <td>1.583539e+18</td>\n",
       "      <td>6</td>\n",
       "    </tr>\n",
       "    <tr>\n",
       "      <th>11</th>\n",
       "      <td>Pakistan</td>\n",
       "      <td>1.583626e+18</td>\n",
       "      <td>6</td>\n",
       "    </tr>\n",
       "    <tr>\n",
       "      <th>12</th>\n",
       "      <td>Pakistan</td>\n",
       "      <td>1.583712e+18</td>\n",
       "      <td>6</td>\n",
       "    </tr>\n",
       "    <tr>\n",
       "      <th>13</th>\n",
       "      <td>Pakistan</td>\n",
       "      <td>1.583798e+18</td>\n",
       "      <td>16</td>\n",
       "    </tr>\n",
       "    <tr>\n",
       "      <th>14</th>\n",
       "      <td>Pakistan</td>\n",
       "      <td>1.583885e+18</td>\n",
       "      <td>19</td>\n",
       "    </tr>\n",
       "    <tr>\n",
       "      <th>15</th>\n",
       "      <td>Pakistan</td>\n",
       "      <td>1.583971e+18</td>\n",
       "      <td>20</td>\n",
       "    </tr>\n",
       "    <tr>\n",
       "      <th>16</th>\n",
       "      <td>Pakistan</td>\n",
       "      <td>1.584058e+18</td>\n",
       "      <td>28</td>\n",
       "    </tr>\n",
       "    <tr>\n",
       "      <th>17</th>\n",
       "      <td>Pakistan</td>\n",
       "      <td>1.584144e+18</td>\n",
       "      <td>31</td>\n",
       "    </tr>\n",
       "    <tr>\n",
       "      <th>18</th>\n",
       "      <td>Pakistan</td>\n",
       "      <td>1.584230e+18</td>\n",
       "      <td>53</td>\n",
       "    </tr>\n",
       "    <tr>\n",
       "      <th>19</th>\n",
       "      <td>Pakistan</td>\n",
       "      <td>1.584317e+18</td>\n",
       "      <td>136</td>\n",
       "    </tr>\n",
       "    <tr>\n",
       "      <th>20</th>\n",
       "      <td>Pakistan</td>\n",
       "      <td>1.584403e+18</td>\n",
       "      <td>236</td>\n",
       "    </tr>\n",
       "    <tr>\n",
       "      <th>21</th>\n",
       "      <td>Pakistan</td>\n",
       "      <td>1.584490e+18</td>\n",
       "      <td>299</td>\n",
       "    </tr>\n",
       "    <tr>\n",
       "      <th>22</th>\n",
       "      <td>Pakistan</td>\n",
       "      <td>1.584576e+18</td>\n",
       "      <td>454</td>\n",
       "    </tr>\n",
       "    <tr>\n",
       "      <th>23</th>\n",
       "      <td>Pakistan</td>\n",
       "      <td>1.584662e+18</td>\n",
       "      <td>501</td>\n",
       "    </tr>\n",
       "    <tr>\n",
       "      <th>24</th>\n",
       "      <td>Pakistan</td>\n",
       "      <td>1.584749e+18</td>\n",
       "      <td>730</td>\n",
       "    </tr>\n",
       "    <tr>\n",
       "      <th>25</th>\n",
       "      <td>Pakistan</td>\n",
       "      <td>1.584835e+18</td>\n",
       "      <td>776</td>\n",
       "    </tr>\n",
       "    <tr>\n",
       "      <th>26</th>\n",
       "      <td>Pakistan</td>\n",
       "      <td>1.584922e+18</td>\n",
       "      <td>875</td>\n",
       "    </tr>\n",
       "    <tr>\n",
       "      <th>27</th>\n",
       "      <td>Pakistan</td>\n",
       "      <td>1.585008e+18</td>\n",
       "      <td>972</td>\n",
       "    </tr>\n",
       "    <tr>\n",
       "      <th>28</th>\n",
       "      <td>Pakistan</td>\n",
       "      <td>1.585094e+18</td>\n",
       "      <td>1063</td>\n",
       "    </tr>\n",
       "    <tr>\n",
       "      <th>29</th>\n",
       "      <td>Pakistan</td>\n",
       "      <td>1.585181e+18</td>\n",
       "      <td>1201</td>\n",
       "    </tr>\n",
       "    <tr>\n",
       "      <th>30</th>\n",
       "      <td>Pakistan</td>\n",
       "      <td>1.585267e+18</td>\n",
       "      <td>1373</td>\n",
       "    </tr>\n",
       "    <tr>\n",
       "      <th>31</th>\n",
       "      <td>Pakistan</td>\n",
       "      <td>1.585354e+18</td>\n",
       "      <td>1495</td>\n",
       "    </tr>\n",
       "  </tbody>\n",
       "</table>\n",
       "</div>"
      ],
      "text/plain": [
       "     Country          Date  Confirmed\n",
       "0   Pakistan  1.582675e+18          2\n",
       "1   Pakistan  1.582762e+18          2\n",
       "2   Pakistan  1.582848e+18          2\n",
       "3   Pakistan  1.582934e+18          4\n",
       "4   Pakistan  1.583021e+18          4\n",
       "5   Pakistan  1.583107e+18          4\n",
       "6   Pakistan  1.583194e+18          5\n",
       "7   Pakistan  1.583280e+18          5\n",
       "8   Pakistan  1.583366e+18          5\n",
       "9   Pakistan  1.583453e+18          6\n",
       "10  Pakistan  1.583539e+18          6\n",
       "11  Pakistan  1.583626e+18          6\n",
       "12  Pakistan  1.583712e+18          6\n",
       "13  Pakistan  1.583798e+18         16\n",
       "14  Pakistan  1.583885e+18         19\n",
       "15  Pakistan  1.583971e+18         20\n",
       "16  Pakistan  1.584058e+18         28\n",
       "17  Pakistan  1.584144e+18         31\n",
       "18  Pakistan  1.584230e+18         53\n",
       "19  Pakistan  1.584317e+18        136\n",
       "20  Pakistan  1.584403e+18        236\n",
       "21  Pakistan  1.584490e+18        299\n",
       "22  Pakistan  1.584576e+18        454\n",
       "23  Pakistan  1.584662e+18        501\n",
       "24  Pakistan  1.584749e+18        730\n",
       "25  Pakistan  1.584835e+18        776\n",
       "26  Pakistan  1.584922e+18        875\n",
       "27  Pakistan  1.585008e+18        972\n",
       "28  Pakistan  1.585094e+18       1063\n",
       "29  Pakistan  1.585181e+18       1201\n",
       "30  Pakistan  1.585267e+18       1373\n",
       "31  Pakistan  1.585354e+18       1495"
      ]
     },
     "execution_count": 21,
     "metadata": {},
     "output_type": "execute_result"
    }
   ],
   "source": [
    "df_confirm_new = df_confirm[df_confirm[\"Confirmed\"] > 0]\n",
    "df_confirm_new.reset_index(drop=True, inplace=True)\n",
    "df_confirm_new"
   ]
  },
  {
   "cell_type": "code",
   "execution_count": 22,
   "metadata": {},
   "outputs": [],
   "source": [
    "# withoutPD_confirm, withPD_confirm = separate_provincial_information(df_confirm)\n",
    "# withoutPD_death, withPD_death = separate_provincial_information(df_death)\n",
    "# withoutPD_recover, withPD_recover = separate_provincial_information(df_recover)\n"
   ]
  },
  {
   "cell_type": "code",
   "execution_count": 23,
   "metadata": {},
   "outputs": [],
   "source": [
    "# count_confirm = withoutPD_confirm[[\"Pakistan\", \"India\"]]\n",
    "# count_death = withoutPD_death[[\"Pakistan\", \"India\"]]\n"
   ]
  },
  {
   "cell_type": "code",
   "execution_count": 24,
   "metadata": {},
   "outputs": [
    {
     "data": {
      "text/plain": [
       "[Text(0, 0, ''),\n",
       " Text(0, 0, ''),\n",
       " Text(0, 0, ''),\n",
       " Text(0, 0, ''),\n",
       " Text(0, 0, ''),\n",
       " Text(0, 0, ''),\n",
       " Text(0, 0, ''),\n",
       " Text(0, 0, ''),\n",
       " Text(0, 0, '')]"
      ]
     },
     "execution_count": 24,
     "metadata": {},
     "output_type": "execute_result"
    },
    {
     "data": {
      "image/png": "[encoded data removed]",
      "text/plain": [
       "<Figure size 576x432 with 1 Axes>"
      ]
     },
     "metadata": {
      "image/png": {
       "height": 340,
       "width": 494
      }
     },
     "output_type": "display_data"
    }
   ],
   "source": [
    "plt.figure(figsize=fig_size)\n",
    "\n",
    "\n",
    "chart = sns.lineplot(data=df_confirm_new[[\"Confirmed\"]])\n",
    "chart.set_xticklabels(\n",
    "    chart.get_xticklabels(), \n",
    "    rotation=45\n",
    ")\n",
    "\n",
    "\n",
    "# update_figures and chart.savefig(f\"../plots/local-single-node/ext4/imagenet_200k/small-image-files/imagenet_throughput.{fig_ext}\", bbox_inches=\"tight\");"
   ]
  },
  {
   "cell_type": "code",
   "execution_count": 25,
   "metadata": {},
   "outputs": [],
   "source": [
    "# plt.figure(figsize=fig_size)\n",
    "\n",
    "# chart = sns.lineplot(data=count_death)\n",
    "# chart.set_xticklabels(\n",
    "#     chart.get_xticklabels(), \n",
    "#     rotation=45\n",
    "# )\n",
    "\n",
    "\n",
    "# # update_figures and chart.savefig(f\"../plots/local-single-node/ext4/imagenet_200k/small-image-files/imagenet_throughput.{fig_ext}\", bbox_inches=\"tight\");"
   ]
  },
  {
   "cell_type": "code",
   "execution_count": 26,
   "metadata": {},
   "outputs": [
    {
     "data": {
      "text/plain": [
       "LinearRegression(copy_X=True, fit_intercept=True, n_jobs=None, normalize=False)"
      ]
     },
     "execution_count": 26,
     "metadata": {},
     "output_type": "execute_result"
    }
   ],
   "source": [
    "X = df_confirm_new[[\"Date\"]]\n",
    "Y = df_confirm_new[[\"Confirmed\"]]\n",
    "X.reset_index(drop=True, inplace=True)\n",
    "Y.reset_index(drop=True, inplace=True)\n",
    "linear_regressor = LinearRegression()  # create object for the class\n",
    "linear_regressor.fit(X, Y)  # perform linear regression\n"
   ]
  },
  {
   "cell_type": "code",
   "execution_count": 27,
   "metadata": {},
   "outputs": [
    {
     "data": {
      "image/png": "[encoded data removed]",
      "text/plain": [
       "<Figure size 432x288 with 1 Axes>"
      ]
     },
     "metadata": {
      "image/png": {
       "height": 264,
       "width": 383
      }
     },
     "output_type": "display_data"
    }
   ],
   "source": [
    "Y_pred = linear_regressor.predict(X)  # make predictions\n",
    "plt.scatter(X, Y)\n",
    "plt.plot(X, Y_pred, color='red')\n",
    "plt.show()"
   ]
  },
  {
   "cell_type": "code",
   "execution_count": 31,
   "metadata": {},
   "outputs": [
    {
     "name": "stdout",
     "output_type": "stream",
     "text": [
      "2020-03-29 00:00:00\n"
     ]
    },
    {
     "data": {
      "text/html": [
       "<div>\n",
       "<style scoped>\n",
       "    .dataframe tbody tr th:only-of-type {\n",
       "        vertical-align: middle;\n",
       "    }\n",
       "\n",
       "    .dataframe tbody tr th {\n",
       "        vertical-align: top;\n",
       "    }\n",
       "\n",
       "    .dataframe thead th {\n",
       "        text-align: right;\n",
       "    }\n",
       "</style>\n",
       "<table border=\"1\" class=\"dataframe\">\n",
       "  <thead>\n",
       "    <tr style=\"text-align: right;\">\n",
       "      <th></th>\n",
       "      <th>0</th>\n",
       "    </tr>\n",
       "  </thead>\n",
       "  <tbody>\n",
       "    <tr>\n",
       "      <th>0</th>\n",
       "      <td>1.585440e+18</td>\n",
       "    </tr>\n",
       "    <tr>\n",
       "      <th>1</th>\n",
       "      <td>1.585526e+18</td>\n",
       "    </tr>\n",
       "    <tr>\n",
       "      <th>2</th>\n",
       "      <td>1.585613e+18</td>\n",
       "    </tr>\n",
       "  </tbody>\n",
       "</table>\n",
       "</div>"
      ],
      "text/plain": [
       "              0\n",
       "0  1.585440e+18\n",
       "1  1.585526e+18\n",
       "2  1.585613e+18"
      ]
     },
     "execution_count": 31,
     "metadata": {},
     "output_type": "execute_result"
    }
   ],
   "source": [
    "prediction_dates = []\n",
    "\n",
    "sdate = datetime.datetime(2020, 3, 29)   # start date\n",
    "edate = datetime.datetime(2020, 3, 30)   # end date\n",
    "\n",
    "delta = edate - sdate       # as timedelta\n",
    "epoch = datetime.datetime.utcfromtimestamp(0)\n",
    "\n",
    "for i in range(delta.days + 1):\n",
    "    day = sdate + datetime.timedelta(days=i)\n",
    "#     temp_date = (day - epoch).total_seconds() * 1000.0\n",
    "    prediction_dates.append(day)\n",
    "    \n",
    "prediction_dates\n",
    "pred_data = pd.DataFrame(data=prediction_dates)\n",
    "\n",
    "\n",
    "pred_data[0] = pd.to_datetime(pred_data[0])\n",
    "pred_data[0] = pred_data[0].values.astype(float)\n",
    "pred_data"
   ]
  },
  {
   "cell_type": "code",
   "execution_count": 29,
   "metadata": {},
   "outputs": [
    {
     "data": {
      "image/png": "[encoded data removed]",
      "text/plain": [
       "<Figure size 432x288 with 1 Axes>"
      ]
     },
     "metadata": {
      "image/png": {
       "height": 264,
       "width": 383
      }
     },
     "output_type": "display_data"
    }
   ],
   "source": [
    "Y_pred = linear_regressor.predict(pred_data)  # make predictions\n",
    "plt.scatter(X, Y)\n",
    "plt.plot(pred_data, Y_pred, color='red')\n",
    "plt.show()"
   ]
  },
  {
   "cell_type": "code",
   "execution_count": 16,
   "metadata": {},
   "outputs": [
    {
     "data": {
      "text/plain": [
       "array([[1024.92943548],\n",
       "       [1067.47250733]])"
      ]
     },
     "execution_count": 16,
     "metadata": {},
     "output_type": "execute_result"
    }
   ],
   "source": [
    "Y_pred"
   ]
  },
  {
   "cell_type": "code",
   "execution_count": null,
   "metadata": {},
   "outputs": [],
   "source": []
  }
 ],
 "metadata": {
  "kernelspec": {
   "display_name": "venv",
   "language": "python",
   "name": "venv"
  },
  "language_info": {
   "codemirror_mode": {
    "name": "ipython",
    "version": 3
   },
   "file_extension": ".py",
   "mimetype": "text/x-python",
   "name": "python",
   "nbconvert_exporter": "python",
   "pygments_lexer": "ipython3",
   "version": "3.7.6"
  }
 },
 "nbformat": 4,
 "nbformat_minor": 4
}
