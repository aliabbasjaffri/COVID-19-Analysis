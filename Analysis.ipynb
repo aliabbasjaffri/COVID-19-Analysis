{
 "cells": [
  {
   "cell_type": "code",
   "execution_count": 37,
   "metadata": {},
   "outputs": [
    {
     "name": "stdout",
     "output_type": "stream",
     "text": [
      "The autoreload extension is already loaded. To reload it, use:\n",
      "  %reload_ext autoreload\n"
     ]
    }
   ],
   "source": [
    "%load_ext autoreload\n",
    "%autoreload 2\n",
    "\n",
    "from pathlib import Path\n",
    "\n",
    "import matplotlib.pylab as plt\n",
    "import pandas as pd\n",
    "import seaborn as sns\n",
    "\n",
    "import utils\n",
    "\n",
    "%matplotlib inline\n",
    "%config InlineBackend.figure_format = 'retina'\n",
    "\n",
    "sns.set()"
   ]
  },
  {
   "cell_type": "code",
   "execution_count": 38,
   "metadata": {},
   "outputs": [],
   "source": [
    "# papermill parameter cell\n",
    "update_figures = True\n",
    "fig_size = (8,6)\n",
    "fig_ext = \"pdf\"\n"
   ]
  },
  {
   "cell_type": "code",
   "execution_count": 191,
   "metadata": {},
   "outputs": [],
   "source": [
    "df_confirmed = pd.concat([\n",
    "    utils.load_file(Path(\"/Users/aliabbasjaffri/Documents/GitHub/COVID-19/csse_covid_19_data/csse_covid_19_time_series/time_series_19-covid-Confirmed.csv\"))\n",
    "])\n"
   ]
  },
  {
   "cell_type": "code",
   "execution_count": 192,
   "metadata": {},
   "outputs": [],
   "source": [
    "def get_figures_by_country(country):\n",
    "    df = df_confirmed[df_confirmed['Country'] == country]\n",
    "    \n",
    "    df = df.melt(id_vars=['Country', 'Province'],\n",
    "                 var_name=\"Date\", \n",
    "                 value_name=\"Confirmed\")\n",
    "    \n",
    "    df['Date'] = pd.to_datetime(df.Date)\n",
    "    df[\"Confirmed\"] = df[\"Confirmed\"].astype(int)\n",
    "    return df"
   ]
  },
  {
   "cell_type": "code",
   "execution_count": 201,
   "metadata": {},
   "outputs": [],
   "source": [
    "countries = ['Pakistan', 'Iran', 'Italy', 'India', 'China', 'Australia'] \n",
    "country_data = []\n",
    "for country in countries:\n",
    "    country_data.append(get_figures_by_country(country))\n",
    "\n",
    "df = pd.concat(country_data)\n",
    "\n",
    "withPD = df.query('(Province.isnull())')\n",
    "withoutPD = df.query('(not Province.isnull())')\n",
    "\n",
    "\n",
    "withPD = withPD.pivot(index='Date', columns='Country')['Confirmed']\n",
    "\n",
    "withoutPD = withoutPD.pivot_table(index=['Date', 'Country'], columns='Province', values='Confirmed').unstack('Country').reset_index()\n",
    "withoutPD = withoutPD.dropna(axis=1, how='all')\n",
    "\n",
    "# withPD\n",
    "# withoutPD"
   ]
  },
  {
   "cell_type": "code",
   "execution_count": null,
   "metadata": {},
   "outputs": [],
   "source": []
  }
 ],
 "metadata": {
  "kernelspec": {
   "display_name": "venv",
   "language": "python",
   "name": "venv"
  },
  "language_info": {
   "codemirror_mode": {
    "name": "ipython",
    "version": 3
   },
   "file_extension": ".py",
   "mimetype": "text/x-python",
   "name": "python",
   "nbconvert_exporter": "python",
   "pygments_lexer": "ipython3",
   "version": "3.7.6"
  }
 },
 "nbformat": 4,
 "nbformat_minor": 4
}
